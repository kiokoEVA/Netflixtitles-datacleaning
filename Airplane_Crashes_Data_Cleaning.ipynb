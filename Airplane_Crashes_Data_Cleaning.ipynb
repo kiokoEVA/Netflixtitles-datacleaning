{
 "cells": [
  {
   "cell_type": "code",
   "id": "initial_id",
   "metadata": {
    "collapsed": true
   },
   "source": [
    "# Connecting to the file\n",
    "\n",
    "import pandas as pd\n",
    "import seaborn as sns\n",
    "import matplotlib.pyplot as plt\n",
    "\n",
    "\n",
    "file_path = \"D:/SCHOOL/Artificial Intelligence/archive/Airplane_Crashes_and_Fatalities_Since_1908.csv\"\n",
    "\n",
    "df = pd.read_csv(file_path)\n"
   ],
   "outputs": [],
   "execution_count": null
  },
  {
   "metadata": {},
   "cell_type": "code",
   "source": [
    "# Question 1: determine the number of rows and columns in the dataset\n",
    "print(\"Number of rows: \",df.shape[0])\n",
    "print(\"Number of columns: \",df.shape[1])"
   ],
   "id": "ea73eb2773b9ef67",
   "outputs": [],
   "execution_count": null
  },
  {
   "metadata": {},
   "cell_type": "code",
   "source": [
    "# Question 2: Display the last 75 rows in the dataset\n",
    "print(\"The last 75 rows of the data set are: \\n\")\n",
    "print(df.tail(75))"
   ],
   "id": "6e32719d14bc24e2",
   "outputs": [],
   "execution_count": null
  },
  {
   "metadata": {},
   "cell_type": "code",
   "source": [
    "# Question 3:\n",
    "\n",
    "print(df['Registration'].isnull().sum())\n",
    "\n",
    "# Time : Impute the modal time value because many of the time values are the same and to preserve the row count.\n",
    "\n",
    "# Location: Dropping the rows with missing data because the missing rows are very few and the data is not in any pattern\n",
    "\n",
    "# Operator: Fill using group based logic as the operator column has a relation to the location column.\n",
    "\n",
    "# Flight : Drop the column because there is too much missing data\n",
    "\n",
    "# Route : drop the rows without data\n",
    "\n",
    "# Type : There is a strong correlation between route and type so we can fill missing Type values using the most frequent type peroperator\n",
    "\n",
    "# Registration : Drop the null rows because there are only 335 rows without data\n",
    "\n",
    "# cn/In :drop the rows without data\n",
    "\n",
    "# Aboard : Drop all the null rows. The missing rows are not that many\n",
    "\n",
    "# Fatalities : fill using group based logic. fill the blanks with the data in the aboard column\n",
    "\n",
    "# Ground : Fill the missing data with the modal of the rows. Because the data in the column is very similar\n",
    "\n",
    "# Summary : drop all the missing rows. there is not getting the data back"
   ],
   "id": "7d012d2d82cad035",
   "outputs": [],
   "execution_count": null
  },
  {
   "metadata": {},
   "cell_type": "code",
   "source": [
    " # Question 5\n",
    "\n",
    "fatality_Locations = df[['Date','Location','Aboard','Fatalities']]\n",
    "\n",
    "#print(fatality_Locations)\n",
    "\n"
   ],
   "id": "dba5e91594b42006",
   "outputs": [],
   "execution_count": null
  },
  {
   "metadata": {},
   "cell_type": "code",
   "source": [
    "# Question 6\n",
    "\n",
    "max_row = fatality_Locations.loc[df['Fatalities'].idxmax()]\n",
    "\n",
    "print(\"The date with the highest fatality is:\",max_row['Date'])\n"
   ],
   "id": "f4d8ef3e4461f386",
   "outputs": [],
   "execution_count": null
  },
  {
   "metadata": {},
   "cell_type": "code",
   "source": [
    "# Question 7\n",
    "\n",
    "# (i) yes there are\n",
    "# (ii) 58\n",
    "\n",
    "rows = fatality_Locations.loc[fatality_Locations['Fatalities'] == 0]\n",
    "\n",
    "num_rows = rows.shape[0]\n",
    "\n",
    "print(\"There are\",num_rows,\"crashes with 0 fatalities.\\n\")\n",
    "\n",
    "print(rows)\n"
   ],
   "id": "f84d4ac7a8ef3f89",
   "outputs": [],
   "execution_count": null
  },
  {
   "metadata": {},
   "cell_type": "code",
   "source": [
    "# Question 8\n",
    "smallerdf = fatality_Locations.iloc[:10].copy()\n",
    "\n",
    "for col in ['Region', 'State/Country']:\n",
    "    if col in smallerdf.columns:\n",
    "        smallerdf = smallerdf.drop(columns=[col])\n",
    "\n",
    "split_cols = smallerdf[\"Location\"].str.split(\",\", n=1, expand=True)\n",
    "split_cols.columns = [\"Region\", \"State/Country\"]\n",
    "\n",
    "split_cols = split_cols.apply(lambda x: x.str.strip())\n",
    "\n",
    "# Assign the new columns\n",
    "smallerdf['Region'] = split_cols['Region']\n",
    "smallerdf['State/Country'] = split_cols['State/Country']\n",
    "\n",
    "# Drop the original 'Location' column\n",
    "smallerdf = smallerdf.drop(columns=[\"Location\"])\n",
    "\n",
    "print(smallerdf)\n"
   ],
   "id": "17d83983f2d0ee0b",
   "outputs": [],
   "execution_count": null
  },
  {
   "metadata": {},
   "cell_type": "code",
   "source": [
    " # Question 9\n",
    "\n",
    "sorted_df = df[['Location','Fatalities']].sort_values('Fatalities', ascending=False).iloc[:100]\n",
    "print(sorted_df)\n",
    "\n"
   ],
   "id": "f7f8559d3e9291f6",
   "outputs": [],
   "execution_count": null
  },
  {
   "metadata": {},
   "cell_type": "code",
   "source": [
    "# Question 10\n",
    "\n",
    "import seaborn as sns\n",
    "import matplotlib.pyplot as plt\n",
    "\n",
    "region_fatalities = fatality_Locations[['Region', 'Fatalities']].head(25)\n",
    "\n",
    "top_25 = region_fatalities.head(25)\n",
    "\n",
    "plt.figure(figsize=(10, 10))\n",
    "colors = sns.color_palette('pastel')[0:10]\n",
    "\n",
    "plt.pie(\n",
    "    top_25[\"Fatalities\"],\n",
    "    labels=top_25[\"Region\"],\n",
    "    autopct='%1.1f%%',\n",
    "    colors=colors\n",
    ")\n",
    "\n",
    "plt.title('Top 25 Fatalities by Country or U.S. State')\n",
    "plt.tight_layout()\n",
    "plt.show()\n"
   ],
   "id": "466478448304110c",
   "outputs": [],
   "execution_count": null
  }
 ],
 "metadata": {
  "kernelspec": {
   "display_name": "Python 3",
   "language": "python",
   "name": "python3"
  },
  "language_info": {
   "codemirror_mode": {
    "name": "ipython",
    "version": 2
   },
   "file_extension": ".py",
   "mimetype": "text/x-python",
   "name": "python",
   "nbconvert_exporter": "python",
   "pygments_lexer": "ipython2",
   "version": "2.7.6"
  }
 },
 "nbformat": 4,
 "nbformat_minor": 5
}
